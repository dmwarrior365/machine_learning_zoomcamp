{
 "cells": [
  {
   "cell_type": "code",
   "execution_count": 1,
   "metadata": {},
   "outputs": [],
   "source": [
    "# Import library\n",
    "import pandas as pd\n",
    "import numpy as np"
   ]
  },
  {
   "cell_type": "code",
   "execution_count": 2,
   "metadata": {},
   "outputs": [
    {
     "data": {
      "text/html": [
       "<div>\n",
       "<style scoped>\n",
       "    .dataframe tbody tr th:only-of-type {\n",
       "        vertical-align: middle;\n",
       "    }\n",
       "\n",
       "    .dataframe tbody tr th {\n",
       "        vertical-align: top;\n",
       "    }\n",
       "\n",
       "    .dataframe thead th {\n",
       "        text-align: right;\n",
       "    }\n",
       "</style>\n",
       "<table border=\"1\" class=\"dataframe\">\n",
       "  <thead>\n",
       "    <tr style=\"text-align: right;\">\n",
       "      <th></th>\n",
       "      <th>age</th>\n",
       "      <th>job</th>\n",
       "      <th>marital</th>\n",
       "      <th>education</th>\n",
       "      <th>balance</th>\n",
       "      <th>housing</th>\n",
       "      <th>contact</th>\n",
       "      <th>day</th>\n",
       "      <th>month</th>\n",
       "      <th>duration</th>\n",
       "      <th>campaign</th>\n",
       "      <th>pdays</th>\n",
       "      <th>previous</th>\n",
       "      <th>poutcome</th>\n",
       "      <th>y</th>\n",
       "    </tr>\n",
       "  </thead>\n",
       "  <tbody>\n",
       "    <tr>\n",
       "      <th>0</th>\n",
       "      <td>58</td>\n",
       "      <td>management</td>\n",
       "      <td>married</td>\n",
       "      <td>tertiary</td>\n",
       "      <td>2143</td>\n",
       "      <td>yes</td>\n",
       "      <td>unknown</td>\n",
       "      <td>5</td>\n",
       "      <td>may</td>\n",
       "      <td>261</td>\n",
       "      <td>1</td>\n",
       "      <td>-1</td>\n",
       "      <td>0</td>\n",
       "      <td>unknown</td>\n",
       "      <td>no</td>\n",
       "    </tr>\n",
       "    <tr>\n",
       "      <th>1</th>\n",
       "      <td>44</td>\n",
       "      <td>technician</td>\n",
       "      <td>single</td>\n",
       "      <td>secondary</td>\n",
       "      <td>29</td>\n",
       "      <td>yes</td>\n",
       "      <td>unknown</td>\n",
       "      <td>5</td>\n",
       "      <td>may</td>\n",
       "      <td>151</td>\n",
       "      <td>1</td>\n",
       "      <td>-1</td>\n",
       "      <td>0</td>\n",
       "      <td>unknown</td>\n",
       "      <td>no</td>\n",
       "    </tr>\n",
       "    <tr>\n",
       "      <th>2</th>\n",
       "      <td>33</td>\n",
       "      <td>entrepreneur</td>\n",
       "      <td>married</td>\n",
       "      <td>secondary</td>\n",
       "      <td>2</td>\n",
       "      <td>yes</td>\n",
       "      <td>unknown</td>\n",
       "      <td>5</td>\n",
       "      <td>may</td>\n",
       "      <td>76</td>\n",
       "      <td>1</td>\n",
       "      <td>-1</td>\n",
       "      <td>0</td>\n",
       "      <td>unknown</td>\n",
       "      <td>no</td>\n",
       "    </tr>\n",
       "    <tr>\n",
       "      <th>3</th>\n",
       "      <td>47</td>\n",
       "      <td>blue-collar</td>\n",
       "      <td>married</td>\n",
       "      <td>unknown</td>\n",
       "      <td>1506</td>\n",
       "      <td>yes</td>\n",
       "      <td>unknown</td>\n",
       "      <td>5</td>\n",
       "      <td>may</td>\n",
       "      <td>92</td>\n",
       "      <td>1</td>\n",
       "      <td>-1</td>\n",
       "      <td>0</td>\n",
       "      <td>unknown</td>\n",
       "      <td>no</td>\n",
       "    </tr>\n",
       "    <tr>\n",
       "      <th>4</th>\n",
       "      <td>33</td>\n",
       "      <td>unknown</td>\n",
       "      <td>single</td>\n",
       "      <td>unknown</td>\n",
       "      <td>1</td>\n",
       "      <td>no</td>\n",
       "      <td>unknown</td>\n",
       "      <td>5</td>\n",
       "      <td>may</td>\n",
       "      <td>198</td>\n",
       "      <td>1</td>\n",
       "      <td>-1</td>\n",
       "      <td>0</td>\n",
       "      <td>unknown</td>\n",
       "      <td>no</td>\n",
       "    </tr>\n",
       "  </tbody>\n",
       "</table>\n",
       "</div>"
      ],
      "text/plain": [
       "   age           job  marital  education  balance housing  contact  day month  \\\n",
       "0   58    management  married   tertiary     2143     yes  unknown    5   may   \n",
       "1   44    technician   single  secondary       29     yes  unknown    5   may   \n",
       "2   33  entrepreneur  married  secondary        2     yes  unknown    5   may   \n",
       "3   47   blue-collar  married    unknown     1506     yes  unknown    5   may   \n",
       "4   33       unknown   single    unknown        1      no  unknown    5   may   \n",
       "\n",
       "   duration  campaign  pdays  previous poutcome   y  \n",
       "0       261         1     -1         0  unknown  no  \n",
       "1       151         1     -1         0  unknown  no  \n",
       "2        76         1     -1         0  unknown  no  \n",
       "3        92         1     -1         0  unknown  no  \n",
       "4       198         1     -1         0  unknown  no  "
      ]
     },
     "execution_count": 2,
     "metadata": {},
     "output_type": "execute_result"
    }
   ],
   "source": [
    "df = pd.read_csv('/workspaces/machine_learning_zoomcamp/bank-full.csv', sep=';')\n",
    "df = df.drop(columns=['default', 'loan'])\n",
    "df.head()"
   ]
  },
  {
   "cell_type": "markdown",
   "metadata": {},
   "source": [
    "### Question-1"
   ]
  },
  {
   "cell_type": "code",
   "execution_count": 3,
   "metadata": {},
   "outputs": [
    {
     "data": {
      "text/plain": [
       "{'age': np.float64(0.5094149011664284),\n",
       " 'balance': np.float64(0.5932258557239465),\n",
       " 'duration': np.float64(0.8107269279532064),\n",
       " 'campaign': np.float64(0.5703298121548543)}"
      ]
     },
     "execution_count": 3,
     "metadata": {},
     "output_type": "execute_result"
    }
   ],
   "source": [
    "# Dropping the unnamed column and encoding target variable 'y' to binary (yes: 1, no: 0)\n",
    "df['y'] = df['y'].map({'yes': 1, 'no': 0})\n",
    "\n",
    "# Selecting the numerical variables and target variable 'y'\n",
    "numerical_cols = ['age', 'balance', 'duration', 'campaign']\n",
    "target = 'y'\n",
    "\n",
    "# Splitting the data into train (60%), validation (20%), and test (20%) sets using train_test_split\n",
    "from sklearn.model_selection import train_test_split\n",
    "\n",
    "df_train, df_temp = train_test_split(df, test_size=0.4, random_state=1, stratify=df['y'])\n",
    "df_validation, df_test = train_test_split(df_temp, test_size=0.5, random_state=1, stratify=df_temp['y'])\n",
    "\n",
    "from sklearn.metrics import roc_auc_score\n",
    "\n",
    "def compute_auc_and_invert(df_train, numerical_cols, target):\n",
    "    auc_results = {}\n",
    "    \n",
    "    for col in numerical_cols:\n",
    "        auc = roc_auc_score(df_train[target], df_train[col])\n",
    "        \n",
    "        if auc < 0.5:\n",
    "            # Invert the variable if AUC is less than 0.5\n",
    "            df_train[col] = -df_train[col]\n",
    "            auc = roc_auc_score(df_train[target], df_train[col])\n",
    "        \n",
    "        auc_results[col] = auc\n",
    "    \n",
    "    return auc_results\n",
    "\n",
    "# Compute AUC for each numerical variable\n",
    "auc_scores = compute_auc_and_invert(df_train, numerical_cols, target)\n",
    "auc_scores"
   ]
  },
  {
   "cell_type": "markdown",
   "metadata": {},
   "source": [
    "### Question-2"
   ]
  },
  {
   "cell_type": "code",
   "execution_count": 6,
   "metadata": {},
   "outputs": [
    {
     "data": {
      "text/plain": [
       "np.float64(0.8995699338184877)"
      ]
     },
     "execution_count": 6,
     "metadata": {},
     "output_type": "execute_result"
    }
   ],
   "source": [
    "from sklearn.feature_extraction import DictVectorizer\n",
    "from sklearn.linear_model import LogisticRegression\n",
    "from sklearn.metrics import roc_auc_score\n",
    "\n",
    "# One-hot encoding using DictVectorizer\n",
    "dv = DictVectorizer()\n",
    "X_train = dv.fit_transform(df_train.drop(columns=[target]).to_dict(orient='records'))\n",
    "X_validation = dv.transform(df_validation.drop(columns=[target]).to_dict(orient='records'))\n",
    "\n",
    "# Logistic regression model\n",
    "model = LogisticRegression(solver='liblinear', C=1.0, max_iter=1000, random_state=1)\n",
    "model.fit(X_train, df_train[target])\n",
    "\n",
    "# Predictions and AUC on validation dataset\n",
    "y_validation_pred = model.predict_proba(X_validation)[:, 1]\n",
    "auc_validation = roc_auc_score(df_validation[target], y_validation_pred)\n",
    "auc_validation\n"
   ]
  },
  {
   "cell_type": "markdown",
   "metadata": {},
   "source": [
    "#### Question-3"
   ]
  },
  {
   "cell_type": "code",
   "execution_count": 8,
   "metadata": {},
   "outputs": [
    {
     "data": {
      "image/png": "[encoded data removed]",
      "text/plain": [
       "<Figure size 640x480 with 1 Axes>"
      ]
     },
     "metadata": {},
     "output_type": "display_data"
    }
   ],
   "source": [
    "import matplotlib.pyplot as plt\n",
    "\n",
    "y_validation_pred_proba = model.predict_proba(X_validation)[:, 1]\n",
    "\n",
    "thresholds = np.arange(0.0, 1.01, 0.01)\n",
    "precisions = []\n",
    "recalls = []\n",
    "\n",
    "# Iterate over each threshold\n",
    "for threshold in thresholds:\n",
    "    y_pred = (y_validation_pred_proba >= threshold).astype(int)\n",
    "    \n",
    "    tp = np.sum((y_pred == 1) & (df_validation[target] == 1))\n",
    "    fp = np.sum((y_pred == 1) & (df_validation[target] == 0))\n",
    "    fn = np.sum((y_pred == 0) & (df_validation[target] == 1))\n",
    "    \n",
    "    precision = tp / (tp + fp) if tp + fp > 0 else 0\n",
    "    recall = tp / (tp + fn) if tp + fn > 0 else 0\n",
    "    \n",
    "    precisions.append(precision)\n",
    "    recalls.append(recall)\n",
    "\n",
    "# Plot precision and recall curves\n",
    "plt.plot(thresholds, precisions, label='Precision', color='blue')\n",
    "plt.plot(thresholds, recalls, label='Recall', color='green')\n",
    "plt.xlabel('Threshold')\n",
    "plt.ylabel('Score')\n",
    "plt.title('Precision-Recall Curve')\n",
    "plt.legend()\n",
    "plt.grid(True)\n",
    "plt.show()\n",
    "\n",
    "precisions = np.array(precisions)\n",
    "recalls = np.array(recalls)\n",
    "threshold_intersection = thresholds[np.argmin(np.abs(precisions - recalls))]"
   ]
  },
  {
   "cell_type": "markdown",
   "metadata": {},
   "source": [
    "#### Question-4"
   ]
  },
  {
   "cell_type": "code",
   "execution_count": 10,
   "metadata": {},
   "outputs": [
    {
     "data": {
      "image/png": "[encoded data removed]",
      "text/plain": [
       "<Figure size 640x480 with 1 Axes>"
      ]
     },
     "metadata": {},
     "output_type": "display_data"
    },
    {
     "data": {
      "text/plain": [
       "np.float64(0.30000000000000004)"
      ]
     },
     "execution_count": 10,
     "metadata": {},
     "output_type": "execute_result"
    }
   ],
   "source": [
    "thresholds = np.arange(0.0, 1.01, 0.1)\n",
    "f1_scores = []\n",
    "\n",
    "# Iterate over each threshold\n",
    "for threshold in thresholds:\n",
    "    y_pred = (y_validation_pred_proba >= threshold).astype(int)\n",
    "    \n",
    "    tp = np.sum((y_pred == 1) & (df_validation[target] == 1))\n",
    "    fp = np.sum((y_pred == 1) & (df_validation[target] == 0))\n",
    "    fn = np.sum((y_pred == 0) & (df_validation[target] == 1))\n",
    "    \n",
    "    precision = tp / (tp + fp) if tp + fp > 0 else 0\n",
    "    recall = tp / (tp + fn) if tp + fn > 0 else 0\n",
    "    \n",
    "    # Compute F1 score\n",
    "    f1 = (2 * precision * recall) / (precision + recall) if precision + recall > 0 else 0\n",
    "    f1_scores.append(f1)\n",
    "\n",
    "# Plot F1 score\n",
    "plt.plot(thresholds, f1_scores, label='F1 Score', color='purple')\n",
    "plt.xlabel('Threshold')\n",
    "plt.ylabel('F1 Score')\n",
    "plt.title('F1 Score vs. Threshold')\n",
    "plt.legend()\n",
    "plt.grid(True)\n",
    "plt.show()\n",
    "\n",
    "f1_scores = np.array(f1_scores)\n",
    "threshold_max_f1 = thresholds[np.argmax(f1_scores)]\n",
    "max_f1_score = f1_scores[np.argmax(f1_scores)]\n",
    "threshold_max_f1"
   ]
  },
  {
   "cell_type": "markdown",
   "metadata": {},
   "source": [
    "#### Question-5"
   ]
  },
  {
   "cell_type": "code",
   "execution_count": 12,
   "metadata": {},
   "outputs": [
    {
     "data": {
      "text/plain": [
       "([np.float64(0.9069509630450453),\n",
       "  np.float64(0.8989261029741773),\n",
       "  np.float64(0.9055266745586685),\n",
       "  np.float64(0.9124494732828068),\n",
       "  np.float64(0.9067924338924525)],\n",
       " np.float64(0.004319922955648932))"
      ]
     },
     "execution_count": 12,
     "metadata": {},
     "output_type": "execute_result"
    }
   ],
   "source": [
    "from sklearn.model_selection import KFold\n",
    "from sklearn.linear_model import LogisticRegression\n",
    "from sklearn.metrics import roc_auc_score\n",
    "\n",
    "target = 'y'\n",
    "df_full_train = df.drop(columns=[target])\n",
    "y_full_train = df[target]\n",
    "\n",
    "kf = KFold(n_splits=5, shuffle=True, random_state=1)\n",
    "\n",
    "auc_scores = []\n",
    "\n",
    "# Iterate over each fold\n",
    "for train_index, val_index in kf.split(df_full_train):\n",
    "    X_train, X_val = df_full_train.iloc[train_index], df_full_train.iloc[val_index]\n",
    "    y_train, y_val = y_full_train.iloc[train_index], y_full_train.iloc[val_index]\n",
    "\n",
    "    dv = DictVectorizer()\n",
    "    X_train_dv = dv.fit_transform(X_train.to_dict(orient='records'))\n",
    "    X_val_dv = dv.transform(X_val.to_dict(orient='records'))\n",
    "\n",
    "    model = LogisticRegression(solver='liblinear', C=1.0, max_iter=1000, random_state=1)\n",
    "    model.fit(X_train_dv, y_train)\n",
    "\n",
    "    y_val_pred = model.predict_proba(X_val_dv)[:, 1]\n",
    "\n",
    "    auc = roc_auc_score(y_val, y_val_pred)\n",
    "    auc_scores.append(auc)\n",
    "\n",
    "auc_std = np.std(auc_scores)\n",
    "auc_scores, auc_std\n"
   ]
  },
  {
   "cell_type": "markdown",
   "metadata": {},
   "source": [
    "#### Question-6"
   ]
  },
  {
   "cell_type": "code",
   "execution_count": 13,
   "metadata": {},
   "outputs": [
    {
     "data": {
      "text/plain": [
       "({1e-06: (np.float64(0.705), np.float64(0.011)),\n",
       "  0.001: (np.float64(0.868), np.float64(0.006)),\n",
       "  1: (np.float64(0.906), np.float64(0.004))},\n",
       " 1)"
      ]
     },
     "execution_count": 13,
     "metadata": {},
     "output_type": "execute_result"
    }
   ],
   "source": [
    "C_values = [0.000001, 0.001, 1]\n",
    "results = {}\n",
    "\n",
    "for C in C_values:\n",
    "    auc_scores = []\n",
    "    \n",
    "    for train_index, val_index in kf.split(df_full_train):\n",
    "        X_train, X_val = df_full_train.iloc[train_index], df_full_train.iloc[val_index]\n",
    "        y_train, y_val = y_full_train.iloc[train_index], y_full_train.iloc[val_index]\n",
    "\n",
    "        dv = DictVectorizer()\n",
    "        X_train_dv = dv.fit_transform(X_train.to_dict(orient='records'))\n",
    "        X_val_dv = dv.transform(X_val.to_dict(orient='records'))\n",
    "\n",
    "        model = LogisticRegression(solver='liblinear', C=C, max_iter=1000, random_state=1)\n",
    "        model.fit(X_train_dv, y_train)\n",
    "\n",
    "        y_val_pred = model.predict_proba(X_val_dv)[:, 1]\n",
    "\n",
    "        auc = roc_auc_score(y_val, y_val_pred)\n",
    "        auc_scores.append(auc)\n",
    "    \n",
    "    mean_auc = round(np.mean(auc_scores), 3)\n",
    "    std_auc = round(np.std(auc_scores), 3)\n",
    "    \n",
    "    results[C] = (mean_auc, std_auc)\n",
    "\n",
    "best_C = max(results, key=lambda x: results[x][0])\n",
    "results, best_C"
   ]
  }
 ],
 "metadata": {
  "kernelspec": {
   "display_name": "venv",
   "language": "python",
   "name": "python3"
  },
  "language_info": {
   "codemirror_mode": {
    "name": "ipython",
    "version": 3
   },
   "file_extension": ".py",
   "mimetype": "text/x-python",
   "name": "python",
   "nbconvert_exporter": "python",
   "pygments_lexer": "ipython3",
   "version": "3.12.1"
  }
 },
 "nbformat": 4,
 "nbformat_minor": 2
}
