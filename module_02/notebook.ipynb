{
 "cells": [
  {
   "cell_type": "code",
   "execution_count": 15,
   "metadata": {},
   "outputs": [],
   "source": [
    "# Import library\n",
    "import pandas as pd\n",
    "import matplotlib.pyplot as plt\n",
    "import numpy as np\n",
    "import seaborn as sns\n",
    "\n",
    "%matplotlib inline"
   ]
  },
  {
   "cell_type": "code",
   "execution_count": 37,
   "metadata": {},
   "outputs": [],
   "source": [
    "# Use laptop dataset from Kaggle\n",
    "df = pd.read_csv('/workspaces/machine_learning_zoomcamp/laptops.csv')\n",
    "df.columns = df.columns.str.lower().str.replace(' ', '_')\n",
    "strings = list(df.dtypes[df.dtypes == 'object'].index)\n",
    "for col in strings:\n",
    "    df[col] = df[col].str.lower().str.replace(' ', '_')"
   ]
  },
  {
   "cell_type": "code",
   "execution_count": 38,
   "metadata": {},
   "outputs": [
    {
     "data": {
      "text/html": [
       "<div>\n",
       "<style scoped>\n",
       "    .dataframe tbody tr th:only-of-type {\n",
       "        vertical-align: middle;\n",
       "    }\n",
       "\n",
       "    .dataframe tbody tr th {\n",
       "        vertical-align: top;\n",
       "    }\n",
       "\n",
       "    .dataframe thead th {\n",
       "        text-align: right;\n",
       "    }\n",
       "</style>\n",
       "<table border=\"1\" class=\"dataframe\">\n",
       "  <thead>\n",
       "    <tr style=\"text-align: right;\">\n",
       "      <th></th>\n",
       "      <th>laptop</th>\n",
       "      <th>status</th>\n",
       "      <th>brand</th>\n",
       "      <th>model</th>\n",
       "      <th>cpu</th>\n",
       "      <th>ram</th>\n",
       "      <th>storage</th>\n",
       "      <th>storage_type</th>\n",
       "      <th>gpu</th>\n",
       "      <th>screen</th>\n",
       "      <th>touch</th>\n",
       "      <th>final_price</th>\n",
       "    </tr>\n",
       "  </thead>\n",
       "  <tbody>\n",
       "    <tr>\n",
       "      <th>0</th>\n",
       "      <td>asus_expertbook_b1_b1502cba-ej0436x_intel_core...</td>\n",
       "      <td>new</td>\n",
       "      <td>asus</td>\n",
       "      <td>expertbook</td>\n",
       "      <td>intel_core_i5</td>\n",
       "      <td>8</td>\n",
       "      <td>512</td>\n",
       "      <td>ssd</td>\n",
       "      <td>NaN</td>\n",
       "      <td>15.6</td>\n",
       "      <td>no</td>\n",
       "      <td>1009.00</td>\n",
       "    </tr>\n",
       "    <tr>\n",
       "      <th>1</th>\n",
       "      <td>alurin_go_start_intel_celeron_n4020/8gb/256gb_...</td>\n",
       "      <td>new</td>\n",
       "      <td>alurin</td>\n",
       "      <td>go</td>\n",
       "      <td>intel_celeron</td>\n",
       "      <td>8</td>\n",
       "      <td>256</td>\n",
       "      <td>ssd</td>\n",
       "      <td>NaN</td>\n",
       "      <td>15.6</td>\n",
       "      <td>no</td>\n",
       "      <td>299.00</td>\n",
       "    </tr>\n",
       "    <tr>\n",
       "      <th>2</th>\n",
       "      <td>asus_expertbook_b1_b1502cba-ej0424x_intel_core...</td>\n",
       "      <td>new</td>\n",
       "      <td>asus</td>\n",
       "      <td>expertbook</td>\n",
       "      <td>intel_core_i3</td>\n",
       "      <td>8</td>\n",
       "      <td>256</td>\n",
       "      <td>ssd</td>\n",
       "      <td>NaN</td>\n",
       "      <td>15.6</td>\n",
       "      <td>no</td>\n",
       "      <td>789.00</td>\n",
       "    </tr>\n",
       "    <tr>\n",
       "      <th>3</th>\n",
       "      <td>msi_katana_gf66_12uc-082xes_intel_core_i7-1270...</td>\n",
       "      <td>new</td>\n",
       "      <td>msi</td>\n",
       "      <td>katana</td>\n",
       "      <td>intel_core_i7</td>\n",
       "      <td>16</td>\n",
       "      <td>1000</td>\n",
       "      <td>ssd</td>\n",
       "      <td>rtx_3050</td>\n",
       "      <td>15.6</td>\n",
       "      <td>no</td>\n",
       "      <td>1199.00</td>\n",
       "    </tr>\n",
       "    <tr>\n",
       "      <th>4</th>\n",
       "      <td>hp_15s-fq5085ns_intel_core_i5-1235u/16gb/512gb...</td>\n",
       "      <td>new</td>\n",
       "      <td>hp</td>\n",
       "      <td>15s</td>\n",
       "      <td>intel_core_i5</td>\n",
       "      <td>16</td>\n",
       "      <td>512</td>\n",
       "      <td>ssd</td>\n",
       "      <td>NaN</td>\n",
       "      <td>15.6</td>\n",
       "      <td>no</td>\n",
       "      <td>669.01</td>\n",
       "    </tr>\n",
       "    <tr>\n",
       "      <th>...</th>\n",
       "      <td>...</td>\n",
       "      <td>...</td>\n",
       "      <td>...</td>\n",
       "      <td>...</td>\n",
       "      <td>...</td>\n",
       "      <td>...</td>\n",
       "      <td>...</td>\n",
       "      <td>...</td>\n",
       "      <td>...</td>\n",
       "      <td>...</td>\n",
       "      <td>...</td>\n",
       "      <td>...</td>\n",
       "    </tr>\n",
       "    <tr>\n",
       "      <th>2155</th>\n",
       "      <td>razer_blade_17_fhd_360hz_intel_core_i7-11800h/...</td>\n",
       "      <td>refurbished</td>\n",
       "      <td>razer</td>\n",
       "      <td>blade</td>\n",
       "      <td>intel_core_i7</td>\n",
       "      <td>16</td>\n",
       "      <td>1000</td>\n",
       "      <td>ssd</td>\n",
       "      <td>rtx_3060</td>\n",
       "      <td>17.3</td>\n",
       "      <td>no</td>\n",
       "      <td>2699.99</td>\n",
       "    </tr>\n",
       "    <tr>\n",
       "      <th>2156</th>\n",
       "      <td>razer_blade_17_fhd_360hz_intel_core_i7-11800h/...</td>\n",
       "      <td>refurbished</td>\n",
       "      <td>razer</td>\n",
       "      <td>blade</td>\n",
       "      <td>intel_core_i7</td>\n",
       "      <td>16</td>\n",
       "      <td>1000</td>\n",
       "      <td>ssd</td>\n",
       "      <td>rtx_3070</td>\n",
       "      <td>17.3</td>\n",
       "      <td>no</td>\n",
       "      <td>2899.99</td>\n",
       "    </tr>\n",
       "    <tr>\n",
       "      <th>2157</th>\n",
       "      <td>razer_blade_17_fhd_360hz_intel_core_i7-11800h/...</td>\n",
       "      <td>refurbished</td>\n",
       "      <td>razer</td>\n",
       "      <td>blade</td>\n",
       "      <td>intel_core_i7</td>\n",
       "      <td>32</td>\n",
       "      <td>1000</td>\n",
       "      <td>ssd</td>\n",
       "      <td>rtx_3080</td>\n",
       "      <td>17.3</td>\n",
       "      <td>no</td>\n",
       "      <td>3399.99</td>\n",
       "    </tr>\n",
       "    <tr>\n",
       "      <th>2158</th>\n",
       "      <td>razer_book_13_intel_evo_core_i7-1165g7/16gb/1t...</td>\n",
       "      <td>refurbished</td>\n",
       "      <td>razer</td>\n",
       "      <td>book</td>\n",
       "      <td>intel_evo_core_i7</td>\n",
       "      <td>16</td>\n",
       "      <td>1000</td>\n",
       "      <td>ssd</td>\n",
       "      <td>NaN</td>\n",
       "      <td>13.4</td>\n",
       "      <td>yes</td>\n",
       "      <td>1899.99</td>\n",
       "    </tr>\n",
       "    <tr>\n",
       "      <th>2159</th>\n",
       "      <td>razer_book_fhd+_intel_evo_core_i7-1165g7/16gb/...</td>\n",
       "      <td>refurbished</td>\n",
       "      <td>razer</td>\n",
       "      <td>book</td>\n",
       "      <td>intel_evo_core_i7</td>\n",
       "      <td>16</td>\n",
       "      <td>256</td>\n",
       "      <td>ssd</td>\n",
       "      <td>NaN</td>\n",
       "      <td>13.4</td>\n",
       "      <td>yes</td>\n",
       "      <td>1699.99</td>\n",
       "    </tr>\n",
       "  </tbody>\n",
       "</table>\n",
       "<p>2160 rows × 12 columns</p>\n",
       "</div>"
      ],
      "text/plain": [
       "                                                 laptop       status   brand  \\\n",
       "0     asus_expertbook_b1_b1502cba-ej0436x_intel_core...          new    asus   \n",
       "1     alurin_go_start_intel_celeron_n4020/8gb/256gb_...          new  alurin   \n",
       "2     asus_expertbook_b1_b1502cba-ej0424x_intel_core...          new    asus   \n",
       "3     msi_katana_gf66_12uc-082xes_intel_core_i7-1270...          new     msi   \n",
       "4     hp_15s-fq5085ns_intel_core_i5-1235u/16gb/512gb...          new      hp   \n",
       "...                                                 ...          ...     ...   \n",
       "2155  razer_blade_17_fhd_360hz_intel_core_i7-11800h/...  refurbished   razer   \n",
       "2156  razer_blade_17_fhd_360hz_intel_core_i7-11800h/...  refurbished   razer   \n",
       "2157  razer_blade_17_fhd_360hz_intel_core_i7-11800h/...  refurbished   razer   \n",
       "2158  razer_book_13_intel_evo_core_i7-1165g7/16gb/1t...  refurbished   razer   \n",
       "2159  razer_book_fhd+_intel_evo_core_i7-1165g7/16gb/...  refurbished   razer   \n",
       "\n",
       "           model                cpu  ram  storage storage_type       gpu  \\\n",
       "0     expertbook      intel_core_i5    8      512          ssd       NaN   \n",
       "1             go      intel_celeron    8      256          ssd       NaN   \n",
       "2     expertbook      intel_core_i3    8      256          ssd       NaN   \n",
       "3         katana      intel_core_i7   16     1000          ssd  rtx_3050   \n",
       "4            15s      intel_core_i5   16      512          ssd       NaN   \n",
       "...          ...                ...  ...      ...          ...       ...   \n",
       "2155       blade      intel_core_i7   16     1000          ssd  rtx_3060   \n",
       "2156       blade      intel_core_i7   16     1000          ssd  rtx_3070   \n",
       "2157       blade      intel_core_i7   32     1000          ssd  rtx_3080   \n",
       "2158        book  intel_evo_core_i7   16     1000          ssd       NaN   \n",
       "2159        book  intel_evo_core_i7   16      256          ssd       NaN   \n",
       "\n",
       "      screen touch  final_price  \n",
       "0       15.6    no      1009.00  \n",
       "1       15.6    no       299.00  \n",
       "2       15.6    no       789.00  \n",
       "3       15.6    no      1199.00  \n",
       "4       15.6    no       669.01  \n",
       "...      ...   ...          ...  \n",
       "2155    17.3    no      2699.99  \n",
       "2156    17.3    no      2899.99  \n",
       "2157    17.3    no      3399.99  \n",
       "2158    13.4   yes      1899.99  \n",
       "2159    13.4   yes      1699.99  \n",
       "\n",
       "[2160 rows x 12 columns]"
      ]
     },
     "execution_count": 38,
     "metadata": {},
     "output_type": "execute_result"
    }
   ],
   "source": [
    "df"
   ]
  },
  {
   "cell_type": "markdown",
   "metadata": {},
   "source": [
    "#### Question-1"
   ]
  },
  {
   "cell_type": "code",
   "execution_count": 131,
   "metadata": {},
   "outputs": [
    {
     "name": "stdout",
     "output_type": "stream",
     "text": [
      "The null column is screen\n"
     ]
    }
   ],
   "source": [
    "df.isnull().sum()\n",
    "print('The null column is screen')"
   ]
  },
  {
   "cell_type": "markdown",
   "metadata": {},
   "source": [
    "#### Question-2"
   ]
  },
  {
   "cell_type": "code",
   "execution_count": 23,
   "metadata": {},
   "outputs": [
    {
     "name": "stdout",
     "output_type": "stream",
     "text": [
      "Median Value for RAM is 16.0\n"
     ]
    }
   ],
   "source": [
    "print('Median Value for RAM is ' + str(df['ram'].median()))"
   ]
  },
  {
   "cell_type": "markdown",
   "metadata": {},
   "source": [
    "#### Question-3"
   ]
  },
  {
   "cell_type": "code",
   "execution_count": 94,
   "metadata": {},
   "outputs": [
    {
     "data": {
      "text/html": [
       "<div>\n",
       "<style scoped>\n",
       "    .dataframe tbody tr th:only-of-type {\n",
       "        vertical-align: middle;\n",
       "    }\n",
       "\n",
       "    .dataframe tbody tr th {\n",
       "        vertical-align: top;\n",
       "    }\n",
       "\n",
       "    .dataframe thead th {\n",
       "        text-align: right;\n",
       "    }\n",
       "</style>\n",
       "<table border=\"1\" class=\"dataframe\">\n",
       "  <thead>\n",
       "    <tr style=\"text-align: right;\">\n",
       "      <th></th>\n",
       "      <th>ram</th>\n",
       "      <th>storage</th>\n",
       "      <th>screen</th>\n",
       "      <th>final_price</th>\n",
       "    </tr>\n",
       "  </thead>\n",
       "  <tbody>\n",
       "    <tr>\n",
       "      <th>0</th>\n",
       "      <td>8</td>\n",
       "      <td>512</td>\n",
       "      <td>15.6</td>\n",
       "      <td>1009.0</td>\n",
       "    </tr>\n",
       "    <tr>\n",
       "      <th>1</th>\n",
       "      <td>8</td>\n",
       "      <td>256</td>\n",
       "      <td>15.6</td>\n",
       "      <td>299.0</td>\n",
       "    </tr>\n",
       "    <tr>\n",
       "      <th>2</th>\n",
       "      <td>8</td>\n",
       "      <td>256</td>\n",
       "      <td>15.6</td>\n",
       "      <td>789.0</td>\n",
       "    </tr>\n",
       "  </tbody>\n",
       "</table>\n",
       "</div>"
      ],
      "text/plain": [
       "   ram  storage  screen  final_price\n",
       "0    8      512    15.6       1009.0\n",
       "1    8      256    15.6        299.0\n",
       "2    8      256    15.6        789.0"
      ]
     },
     "execution_count": 94,
     "metadata": {},
     "output_type": "execute_result"
    }
   ],
   "source": [
    "# Used data for analysis\n",
    "df_n = df.drop(['laptop','status','brand','model','cpu','storage_type','touch','gpu'],axis=1)\n",
    "df_n.head(3)"
   ]
  },
  {
   "cell_type": "code",
   "execution_count": 96,
   "metadata": {},
   "outputs": [
    {
     "data": {
      "text/plain": [
       "ram            0\n",
       "storage        0\n",
       "screen         4\n",
       "final_price    0\n",
       "dtype: int64"
      ]
     },
     "execution_count": 96,
     "metadata": {},
     "output_type": "execute_result"
    }
   ],
   "source": [
    "df_n.isnull().sum()"
   ]
  },
  {
   "cell_type": "code",
   "execution_count": 106,
   "metadata": {},
   "outputs": [],
   "source": [
    "base = ['ram', 'storage', 'screen']"
   ]
  },
  {
   "cell_type": "code",
   "execution_count": 125,
   "metadata": {},
   "outputs": [],
   "source": [
    "def prepare_X(df):\n",
    "    df = df.copy()\n",
    "    features = base.copy()\n",
    "    \n",
    "    df_num = df[features]\n",
    "    df_num = df_num.fillna(0)\n",
    "    X = df_num.values\n",
    "    return X"
   ]
  },
  {
   "cell_type": "code",
   "execution_count": 108,
   "metadata": {},
   "outputs": [
    {
     "data": {
      "text/plain": [
       "(432, 432, 1296)"
      ]
     },
     "execution_count": 108,
     "metadata": {},
     "output_type": "execute_result"
    }
   ],
   "source": [
    "# Splitting the dataset\n",
    "np.random.seed(42)\n",
    "\n",
    "n = len(df_n)\n",
    "n_val = int(0.2 * n)\n",
    "n_test = int(0.2 * n)\n",
    "n_train = n - (n_val + n_test)\n",
    "\n",
    "idx = np.arange(n)\n",
    "np.random.shuffle(idx)\n",
    "\n",
    "df_shuffled = df_n.iloc[idx]\n",
    "df_train = df_shuffled.iloc[:n_train].copy()\n",
    "df_val = df_shuffled.iloc[n_train:n_train+n_val].copy()\n",
    "df_test = df_shuffled.iloc[n_train+n_val:].copy()\n",
    "\n",
    "n_val, n_test, n_train"
   ]
  },
  {
   "cell_type": "code",
   "execution_count": 109,
   "metadata": {},
   "outputs": [
    {
     "data": {
      "text/plain": [
       "(1296, 432, 432)"
      ]
     },
     "execution_count": 109,
     "metadata": {},
     "output_type": "execute_result"
    }
   ],
   "source": [
    "len(df_train), len(df_val), len(df_test)"
   ]
  },
  {
   "cell_type": "code",
   "execution_count": 110,
   "metadata": {},
   "outputs": [],
   "source": [
    "df_train = df_train.reset_index(drop=True)\n",
    "df_val = df_val.reset_index(drop=True)\n",
    "df_test = df_test.reset_index(drop=True)"
   ]
  },
  {
   "cell_type": "code",
   "execution_count": 111,
   "metadata": {},
   "outputs": [],
   "source": [
    "y_train_orig = df_train.final_price.values\n",
    "y_val_orig = df_val.final_price.values\n",
    "y_test_orig = df_test.final_price.values\n",
    "\n",
    "y_train = np.log1p(df_train.final_price.values)\n",
    "y_val = np.log1p(df_val.final_price.values)\n",
    "y_test = np.log1p(df_test.final_price.values)"
   ]
  },
  {
   "cell_type": "code",
   "execution_count": 112,
   "metadata": {},
   "outputs": [],
   "source": [
    "def train_linear_regression(X, y):\n",
    "    ones = np.ones(X.shape[0])\n",
    "    X = np.column_stack([ones, X])\n",
    "\n",
    "    XTX = X.T.dot(X)\n",
    "    XTX_inv = np.linalg.inv(XTX)\n",
    "    w = XTX_inv.dot(X.T).dot(y)\n",
    "    \n",
    "    return w[0], w[1:]"
   ]
  },
  {
   "cell_type": "code",
   "execution_count": 113,
   "metadata": {},
   "outputs": [],
   "source": [
    "# Generate X_train, X_val, X_test witl Fillna 0\n",
    "X_train_0 = prepare_X(df_train)\n",
    "X_val_0 = prepare_X(df_val)\n",
    "X_test_0 = prepare_X(df_test)"
   ]
  },
  {
   "cell_type": "code",
   "execution_count": 114,
   "metadata": {},
   "outputs": [
    {
     "data": {
      "text/plain": [
       "array([[  32. , 1000. ,   15.6],\n",
       "       [   4. ,   64. ,   14.1],\n",
       "       [  32. , 1000. ,   14. ],\n",
       "       ...,\n",
       "       [  16. ,  512. ,   15.6],\n",
       "       [  16. ,  512. ,   14. ],\n",
       "       [  16. ,  512. ,   14. ]])"
      ]
     },
     "execution_count": 114,
     "metadata": {},
     "output_type": "execute_result"
    }
   ],
   "source": [
    "X_train_0"
   ]
  },
  {
   "cell_type": "code",
   "execution_count": 115,
   "metadata": {},
   "outputs": [],
   "source": [
    "w_0, w = train_linear_regression(X_train_0, y_train)\n",
    "y_pred = w_0 + X_train_0.dot(w)"
   ]
  },
  {
   "cell_type": "code",
   "execution_count": 116,
   "metadata": {},
   "outputs": [
    {
     "data": {
      "image/png": "[encoded data removed]",
      "text/plain": [
       "<Figure size 600x400 with 1 Axes>"
      ]
     },
     "metadata": {},
     "output_type": "display_data"
    }
   ],
   "source": [
    "plt.figure(figsize=(6, 4))\n",
    "\n",
    "sns.histplot(y_train, label='target', color='#222222', alpha=0.6, bins=40)\n",
    "sns.histplot(y_pred, label='prediction', color='#aaaaaa', alpha=0.8, bins=40)\n",
    "\n",
    "plt.legend()\n",
    "\n",
    "plt.ylabel('Frequency')\n",
    "plt.xlabel('Log(Price + 1)')\n",
    "plt.title('Predictions vs actual distribution')\n",
    "\n",
    "plt.show()"
   ]
  },
  {
   "cell_type": "code",
   "execution_count": 117,
   "metadata": {},
   "outputs": [],
   "source": [
    "def rmse(y, y_pred):\n",
    "    error = y_pred - y\n",
    "    mse = (error ** 2).mean()\n",
    "    return np.sqrt(mse)"
   ]
  },
  {
   "cell_type": "code",
   "execution_count": 118,
   "metadata": {},
   "outputs": [
    {
     "data": {
      "text/plain": [
       "np.float64(0.44632651855038796)"
      ]
     },
     "execution_count": 118,
     "metadata": {},
     "output_type": "execute_result"
    }
   ],
   "source": [
    "rmse(y_train, y_pred)"
   ]
  },
  {
   "cell_type": "code",
   "execution_count": 119,
   "metadata": {},
   "outputs": [],
   "source": [
    "X_val = prepare_X(df_val)\n",
    "y_pred = w_0 + X_val.dot(w)"
   ]
  },
  {
   "cell_type": "code",
   "execution_count": 120,
   "metadata": {},
   "outputs": [
    {
     "data": {
      "text/plain": [
       "np.float64(0.4288635315474416)"
      ]
     },
     "execution_count": 120,
     "metadata": {},
     "output_type": "execute_result"
    }
   ],
   "source": [
    "rmse(y_val, y_pred)"
   ]
  },
  {
   "cell_type": "code",
   "execution_count": 122,
   "metadata": {},
   "outputs": [],
   "source": [
    "# Train with mean\n",
    "# Generate X_train, X_val, X_test witl Fillna 0\n",
    "X_train_m = prepare_X(df_train)\n",
    "w_0, w = train_linear_regression(X_train_m, y_train)\n",
    "y_pred = w_0 + X_train_m.dot(w)"
   ]
  },
  {
   "cell_type": "code",
   "execution_count": 123,
   "metadata": {},
   "outputs": [
    {
     "data": {
      "text/plain": [
       "np.float64(0.4460856669097624)"
      ]
     },
     "execution_count": 123,
     "metadata": {},
     "output_type": "execute_result"
    }
   ],
   "source": [
    "rmse(y_train, y_pred)"
   ]
  },
  {
   "cell_type": "markdown",
   "metadata": {},
   "source": [
    "#### Question-4"
   ]
  },
  {
   "cell_type": "code",
   "execution_count": 124,
   "metadata": {},
   "outputs": [],
   "source": [
    "def train_linear_regression_reg(X, y, r=0.0):\n",
    "    ones = np.ones(X.shape[0])\n",
    "    X = np.column_stack([ones, X])\n",
    "\n",
    "    XTX = X.T.dot(X)\n",
    "    reg = r * np.eye(XTX.shape[0])\n",
    "    XTX = XTX + reg\n",
    "\n",
    "    XTX_inv = np.linalg.inv(XTX)\n",
    "    w = XTX_inv.dot(X.T).dot(y)\n",
    "    \n",
    "    return w[0], w[1:]"
   ]
  },
  {
   "cell_type": "code",
   "execution_count": 126,
   "metadata": {},
   "outputs": [],
   "source": [
    "X_train = prepare_X(df_train)"
   ]
  },
  {
   "cell_type": "code",
   "execution_count": 128,
   "metadata": {},
   "outputs": [
    {
     "name": "stdout",
     "output_type": "stream",
     "text": [
      "    0, 6.73\n",
      " 0.01, 6.72\n",
      "  0.1, 6.67\n",
      "    1, 6.16\n",
      "    5, 4.62\n",
      "   10, 3.52\n",
      "  100, 0.68\n"
     ]
    }
   ],
   "source": [
    "for r in [0, 0.01, 0.1, 1, 5, 10, 100]:\n",
    "    w_0, w = train_linear_regression_reg(X_train, y_train, r=r)\n",
    "    print('%5s, %.2f' % (r, w_0))"
   ]
  },
  {
   "cell_type": "code",
   "execution_count": 130,
   "metadata": {},
   "outputs": [
    {
     "name": "stdout",
     "output_type": "stream",
     "text": [
      "r = 0: Train RMSE = 0.45, Validation RMSE = 0.43\n",
      "r = 0.01: Train RMSE = 0.45, Validation RMSE = 0.43\n",
      "r = 0.1: Train RMSE = 0.45, Validation RMSE = 0.43\n",
      "r = 1: Train RMSE = 0.45, Validation RMSE = 0.43\n",
      "r = 5: Train RMSE = 0.49, Validation RMSE = 0.46\n",
      "r = 10: Train RMSE = 0.53, Validation RMSE = 0.51\n",
      "r = 100: Train RMSE = 0.71, Validation RMSE = 0.67\n"
     ]
    }
   ],
   "source": [
    "for r in [0, 0.01, 0.1, 1, 5, 10, 100]:\n",
    "    X_train = prepare_X(df_train)\n",
    "    w_0, w = train_linear_regression_reg(X_train, y_train, r=r)\n",
    "\n",
    "    y_pred = w_0 + X_train.dot(w)\n",
    "    train_rmse = rmse(y_train, y_pred)\n",
    "\n",
    "    X_val = prepare_X(df_val)\n",
    "    y_pred = w_0 + X_val.dot(w)\n",
    "    val_rmse = rmse(y_val, y_pred)\n",
    "\n",
    "    print(f\"r = {r}: Train RMSE = {train_rmse:.2f}, Validation RMSE = {val_rmse:.2f}\")"
   ]
  },
  {
   "cell_type": "markdown",
   "metadata": {},
   "source": [
    "#### Question-5"
   ]
  },
  {
   "cell_type": "code",
   "execution_count": 133,
   "metadata": {},
   "outputs": [
    {
     "name": "stdout",
     "output_type": "stream",
     "text": [
      "Seed = 0: Train RMSE = 602.88, Validation RMSE = 565.45\n",
      "Seed = 1: Train RMSE = 581.03, Validation RMSE = 636.80\n",
      "Seed = 2: Train RMSE = 591.11, Validation RMSE = 588.96\n",
      "Seed = 3: Train RMSE = 576.90, Validation RMSE = 597.81\n",
      "Seed = 4: Train RMSE = 590.65, Validation RMSE = 571.96\n",
      "Seed = 5: Train RMSE = 603.65, Validation RMSE = 573.24\n",
      "Seed = 6: Train RMSE = 588.46, Validation RMSE = 647.34\n",
      "Seed = 7: Train RMSE = 590.66, Validation RMSE = 550.44\n",
      "Seed = 8: Train RMSE = 563.29, Validation RMSE = 587.33\n",
      "Seed = 9: Train RMSE = 591.38, Validation RMSE = 576.10\n",
      "\n",
      "Standard Deviation of Train RMSE across seeds: 11.33\n",
      "Standard Deviation of Validation RMSE across seeds: 29.18\n"
     ]
    }
   ],
   "source": [
    "# Splitting the dataset\n",
    "seed = [0, 1, 2, 3, 4, 5, 6, 7, 8, 9]\n",
    "\n",
    "# Lists to store RMSE values for each seed\n",
    "train_rmse_list = []\n",
    "val_rmse_list = []\n",
    "\n",
    "# Loop over multiple seeds\n",
    "for s in seed:\n",
    "    np.random.seed(s)\n",
    "\n",
    "    n = len(df_n)\n",
    "    n_val = int(0.2 * n)\n",
    "    n_test = int(0.2 * n)\n",
    "    n_train = n - (n_val + n_test)\n",
    "\n",
    "    idx = np.arange(n)\n",
    "    np.random.shuffle(idx)\n",
    "\n",
    "    df_shuffled = df_n.iloc[idx]\n",
    "    df_train = df_shuffled.iloc[:n_train].copy()\n",
    "    df_val = df_shuffled.iloc[n_train:n_train + n_val].copy()\n",
    "    df_test = df_shuffled.iloc[n_train + n_val:].copy()\n",
    "\n",
    "    df_train = df_train.reset_index(drop=True)\n",
    "    df_val = df_val.reset_index(drop=True)\n",
    "    df_test = df_test.reset_index(drop=True)\n",
    "\n",
    "    y_train = df_train.final_price.values\n",
    "    y_val = df_val.final_price.values\n",
    "\n",
    "    X_train = prepare_X(df_train)\n",
    "    X_val = prepare_X(df_val)\n",
    "\n",
    "    # Train model and calculate RMSE\n",
    "    w_0, w = train_linear_regression(X_train, y_train)\n",
    "    y_pred_train = w_0 + X_train.dot(w)\n",
    "    train_rmse = rmse(y_train, y_pred_train)\n",
    "\n",
    "    y_pred_val = w_0 + X_val.dot(w)\n",
    "    val_rmse = rmse(y_val, y_pred_val)\n",
    "\n",
    "    # Append RMSE results to lists\n",
    "    train_rmse_list.append(train_rmse)\n",
    "    val_rmse_list.append(val_rmse)\n",
    "\n",
    "    print(f\"Seed = {s}: Train RMSE = {train_rmse:.2f}, Validation RMSE = {val_rmse:.2f}\")\n",
    "\n",
    "# Calculate the standard deviation of RMSE values\n",
    "train_rmse_std = np.std(train_rmse_list)\n",
    "val_rmse_std = np.std(val_rmse_list)\n",
    "\n",
    "print(f\"\\nStandard Deviation of Train RMSE across seeds: {train_rmse_std:.2f}\")\n",
    "print(f\"Standard Deviation of Validation RMSE across seeds: {val_rmse_std:.2f}\")"
   ]
  },
  {
   "cell_type": "markdown",
   "metadata": {},
   "source": [
    "#### Question-6"
   ]
  },
  {
   "cell_type": "code",
   "execution_count": 135,
   "metadata": {},
   "outputs": [],
   "source": [
    "# Splitting the dataset\n",
    "np.random.seed(9)\n",
    "\n",
    "n = len(df_n)\n",
    "n_val = int(0.2 * n)\n",
    "n_test = int(0.2 * n)\n",
    "n_train = n - (n_val + n_test)\n",
    "\n",
    "idx = np.arange(n)\n",
    "np.random.shuffle(idx)\n",
    "\n",
    "df_shuffled = df_n.iloc[idx]\n",
    "df_train = df_shuffled.iloc[:n_train].copy()\n",
    "df_val = df_shuffled.iloc[n_train:n_train+n_val].copy()\n",
    "df_train = pd.concat([df_train,df_val])\n",
    "df_test = df_shuffled.iloc[n_train+n_val:].copy()"
   ]
  },
  {
   "cell_type": "code",
   "execution_count": 136,
   "metadata": {},
   "outputs": [],
   "source": [
    "# Generate X_train, X_val, X_test witl Fillna 0\n",
    "X_train = prepare_X(df_train)\n",
    "X_test = prepare_X(df_test)"
   ]
  },
  {
   "cell_type": "code",
   "execution_count": null,
   "metadata": {},
   "outputs": [],
   "source": []
  },
  {
   "cell_type": "code",
   "execution_count": 137,
   "metadata": {},
   "outputs": [],
   "source": [
    "def train_linear_regression_reg(X, y, r=0.001):\n",
    "    ones = np.ones(X.shape[0])\n",
    "    X = np.column_stack([ones, X])\n",
    "\n",
    "    XTX = X.T.dot(X)\n",
    "    reg = r * np.eye(XTX.shape[0])\n",
    "    XTX = XTX + reg\n",
    "\n",
    "    XTX_inv = np.linalg.inv(XTX)\n",
    "    w = XTX_inv.dot(X.T).dot(y)\n",
    "    \n",
    "    return w[0], w[1:]"
   ]
  },
  {
   "cell_type": "code",
   "execution_count": 139,
   "metadata": {},
   "outputs": [
    {
     "data": {
      "text/plain": [
       "np.float64(608.609982204956)"
      ]
     },
     "execution_count": 139,
     "metadata": {},
     "output_type": "execute_result"
    }
   ],
   "source": [
    "y_train = df_train.final_price.values\n",
    "y_test = df_test.final_price.values\n",
    "\n",
    "w_0, w = train_linear_regression_reg(X_train, y_train, r=0.001)\n",
    "\n",
    "# Prediction on data train\n",
    "y_pred = w_0 + X_train.dot(w)\n",
    "train_rmse = rmse(y_train, y_pred)\n",
    "\n",
    "# Prediction on data test\n",
    "y_pred_test = w_0 + X_test.dot(w)\n",
    "test_rmse = rmse(y_test, y_pred_test)\n",
    "test_rmse"
   ]
  }
 ],
 "metadata": {
  "kernelspec": {
   "display_name": "venv",
   "language": "python",
   "name": "python3"
  },
  "language_info": {
   "codemirror_mode": {
    "name": "ipython",
    "version": 3
   },
   "file_extension": ".py",
   "mimetype": "text/x-python",
   "name": "python",
   "nbconvert_exporter": "python",
   "pygments_lexer": "ipython3",
   "version": "3.12.1"
  }
 },
 "nbformat": 4,
 "nbformat_minor": 2
}
