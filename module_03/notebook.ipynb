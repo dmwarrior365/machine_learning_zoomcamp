{
 "cells": [
  {
   "cell_type": "markdown",
   "metadata": {},
   "source": [
    "#### Module-3 Churn Classification"
   ]
  },
  {
   "cell_type": "code",
   "execution_count": 2,
   "metadata": {},
   "outputs": [],
   "source": [
    "# Import library\n",
    "import pandas as pd\n",
    "import numpy as np"
   ]
  },
  {
   "cell_type": "code",
   "execution_count": 7,
   "metadata": {},
   "outputs": [
    {
     "data": {
      "text/html": [
       "<div>\n",
       "<style scoped>\n",
       "    .dataframe tbody tr th:only-of-type {\n",
       "        vertical-align: middle;\n",
       "    }\n",
       "\n",
       "    .dataframe tbody tr th {\n",
       "        vertical-align: top;\n",
       "    }\n",
       "\n",
       "    .dataframe thead th {\n",
       "        text-align: right;\n",
       "    }\n",
       "</style>\n",
       "<table border=\"1\" class=\"dataframe\">\n",
       "  <thead>\n",
       "    <tr style=\"text-align: right;\">\n",
       "      <th></th>\n",
       "      <th>age</th>\n",
       "      <th>job</th>\n",
       "      <th>marital</th>\n",
       "      <th>education</th>\n",
       "      <th>default</th>\n",
       "      <th>balance</th>\n",
       "      <th>housing</th>\n",
       "      <th>loan</th>\n",
       "      <th>contact</th>\n",
       "      <th>day</th>\n",
       "      <th>month</th>\n",
       "      <th>duration</th>\n",
       "      <th>campaign</th>\n",
       "      <th>pdays</th>\n",
       "      <th>previous</th>\n",
       "      <th>poutcome</th>\n",
       "      <th>y</th>\n",
       "    </tr>\n",
       "  </thead>\n",
       "  <tbody>\n",
       "    <tr>\n",
       "      <th>0</th>\n",
       "      <td>58</td>\n",
       "      <td>management</td>\n",
       "      <td>married</td>\n",
       "      <td>tertiary</td>\n",
       "      <td>no</td>\n",
       "      <td>2143</td>\n",
       "      <td>yes</td>\n",
       "      <td>no</td>\n",
       "      <td>unknown</td>\n",
       "      <td>5</td>\n",
       "      <td>may</td>\n",
       "      <td>261</td>\n",
       "      <td>1</td>\n",
       "      <td>-1</td>\n",
       "      <td>0</td>\n",
       "      <td>unknown</td>\n",
       "      <td>no</td>\n",
       "    </tr>\n",
       "    <tr>\n",
       "      <th>1</th>\n",
       "      <td>44</td>\n",
       "      <td>technician</td>\n",
       "      <td>single</td>\n",
       "      <td>secondary</td>\n",
       "      <td>no</td>\n",
       "      <td>29</td>\n",
       "      <td>yes</td>\n",
       "      <td>no</td>\n",
       "      <td>unknown</td>\n",
       "      <td>5</td>\n",
       "      <td>may</td>\n",
       "      <td>151</td>\n",
       "      <td>1</td>\n",
       "      <td>-1</td>\n",
       "      <td>0</td>\n",
       "      <td>unknown</td>\n",
       "      <td>no</td>\n",
       "    </tr>\n",
       "    <tr>\n",
       "      <th>2</th>\n",
       "      <td>33</td>\n",
       "      <td>entrepreneur</td>\n",
       "      <td>married</td>\n",
       "      <td>secondary</td>\n",
       "      <td>no</td>\n",
       "      <td>2</td>\n",
       "      <td>yes</td>\n",
       "      <td>yes</td>\n",
       "      <td>unknown</td>\n",
       "      <td>5</td>\n",
       "      <td>may</td>\n",
       "      <td>76</td>\n",
       "      <td>1</td>\n",
       "      <td>-1</td>\n",
       "      <td>0</td>\n",
       "      <td>unknown</td>\n",
       "      <td>no</td>\n",
       "    </tr>\n",
       "    <tr>\n",
       "      <th>3</th>\n",
       "      <td>47</td>\n",
       "      <td>blue-collar</td>\n",
       "      <td>married</td>\n",
       "      <td>unknown</td>\n",
       "      <td>no</td>\n",
       "      <td>1506</td>\n",
       "      <td>yes</td>\n",
       "      <td>no</td>\n",
       "      <td>unknown</td>\n",
       "      <td>5</td>\n",
       "      <td>may</td>\n",
       "      <td>92</td>\n",
       "      <td>1</td>\n",
       "      <td>-1</td>\n",
       "      <td>0</td>\n",
       "      <td>unknown</td>\n",
       "      <td>no</td>\n",
       "    </tr>\n",
       "    <tr>\n",
       "      <th>4</th>\n",
       "      <td>33</td>\n",
       "      <td>unknown</td>\n",
       "      <td>single</td>\n",
       "      <td>unknown</td>\n",
       "      <td>no</td>\n",
       "      <td>1</td>\n",
       "      <td>no</td>\n",
       "      <td>no</td>\n",
       "      <td>unknown</td>\n",
       "      <td>5</td>\n",
       "      <td>may</td>\n",
       "      <td>198</td>\n",
       "      <td>1</td>\n",
       "      <td>-1</td>\n",
       "      <td>0</td>\n",
       "      <td>unknown</td>\n",
       "      <td>no</td>\n",
       "    </tr>\n",
       "  </tbody>\n",
       "</table>\n",
       "</div>"
      ],
      "text/plain": [
       "   age           job  marital  education default  balance housing loan  \\\n",
       "0   58    management  married   tertiary      no     2143     yes   no   \n",
       "1   44    technician   single  secondary      no       29     yes   no   \n",
       "2   33  entrepreneur  married  secondary      no        2     yes  yes   \n",
       "3   47   blue-collar  married    unknown      no     1506     yes   no   \n",
       "4   33       unknown   single    unknown      no        1      no   no   \n",
       "\n",
       "   contact  day month  duration  campaign  pdays  previous poutcome   y  \n",
       "0  unknown    5   may       261         1     -1         0  unknown  no  \n",
       "1  unknown    5   may       151         1     -1         0  unknown  no  \n",
       "2  unknown    5   may        76         1     -1         0  unknown  no  \n",
       "3  unknown    5   may        92         1     -1         0  unknown  no  \n",
       "4  unknown    5   may       198         1     -1         0  unknown  no  "
      ]
     },
     "execution_count": 7,
     "metadata": {},
     "output_type": "execute_result"
    }
   ],
   "source": [
    "df = pd.read_csv('/workspaces/machine_learning_zoomcamp/bank-full.csv', sep=';')\n",
    "# Display the first few rows to understand the structure of the dataset\n",
    "df.head()"
   ]
  },
  {
   "cell_type": "markdown",
   "metadata": {},
   "source": [
    "#### Question-1"
   ]
  },
  {
   "cell_type": "code",
   "execution_count": 8,
   "metadata": {},
   "outputs": [
    {
     "data": {
      "text/plain": [
       "'secondary'"
      ]
     },
     "execution_count": 8,
     "metadata": {},
     "output_type": "execute_result"
    }
   ],
   "source": [
    "education_mode = df['education'].mode()[0]\n",
    "education_mode"
   ]
  },
  {
   "cell_type": "markdown",
   "metadata": {},
   "source": [
    "#### Question-2"
   ]
  },
  {
   "cell_type": "code",
   "execution_count": 11,
   "metadata": {},
   "outputs": [
    {
     "data": {
      "text/plain": [
       "(('pdays', 'previous'), np.float64(0.4548196354805043))"
      ]
     },
     "execution_count": 11,
     "metadata": {},
     "output_type": "execute_result"
    }
   ],
   "source": [
    "correlation_matrix = df.select_dtypes(include='number').corr()\n",
    "\n",
    "correlation_matrix_unstacked = correlation_matrix.unstack()\n",
    "correlation_matrix_unstacked = correlation_matrix_unstacked[correlation_matrix_unstacked < 1.0]\n",
    "highest_correlation_pair = correlation_matrix_unstacked.idxmax(), correlation_matrix_unstacked.max()\n",
    "highest_correlation_pair"
   ]
  },
  {
   "cell_type": "markdown",
   "metadata": {},
   "source": [
    "#### Question-3"
   ]
  },
  {
   "cell_type": "code",
   "execution_count": 13,
   "metadata": {},
   "outputs": [
    {
     "data": {
      "text/plain": [
       "('poutcome', np.float64(0.03))"
      ]
     },
     "execution_count": 13,
     "metadata": {},
     "output_type": "execute_result"
    }
   ],
   "source": [
    "from sklearn.model_selection import train_test_split\n",
    "from sklearn.feature_selection import mutual_info_classif\n",
    "from sklearn.preprocessing import LabelEncoder\n",
    "\n",
    "df['y'] = df['y'].apply(lambda x: 1 if x == 'yes' else 0)\n",
    "\n",
    "train_full, test = train_test_split(df, test_size=0.2, random_state=42, stratify=df['y'])\n",
    "train, val = train_test_split(train_full, test_size=0.25, random_state=42, stratify=train_full['y'])\n",
    "\n",
    "X_train = train.drop(columns=['y'])\n",
    "y_train = train['y']\n",
    "\n",
    "X_train_encoded = X_train.copy()\n",
    "categorical_features = X_train_encoded.select_dtypes(include=['object']).columns\n",
    "\n",
    "for column in categorical_features:\n",
    "    le = LabelEncoder()\n",
    "    X_train_encoded[column] = le.fit_transform(X_train_encoded[column].astype(str))\n",
    "\n",
    "mi_scores = mutual_info_classif(X_train_encoded[categorical_features], y_train)\n",
    "mi_scores_rounded = {cat: round(score, 2) for cat, score in zip(categorical_features, mi_scores)}\n",
    "\n",
    "highest_mi_variable = max(mi_scores_rounded, key=mi_scores_rounded.get), mi_scores_rounded[max(mi_scores_rounded, key=mi_scores_rounded.get)]\n",
    "highest_mi_variable"
   ]
  },
  {
   "cell_type": "markdown",
   "metadata": {},
   "source": [
    "#### Question-4"
   ]
  },
  {
   "cell_type": "code",
   "execution_count": 36,
   "metadata": {},
   "outputs": [
    {
     "data": {
      "text/plain": [
       "0.9"
      ]
     },
     "execution_count": 36,
     "metadata": {},
     "output_type": "execute_result"
    }
   ],
   "source": [
    "from sklearn.linear_model import LogisticRegression\n",
    "from sklearn.metrics import accuracy_score\n",
    "from sklearn.preprocessing import OneHotEncoder\n",
    "from sklearn.pipeline import make_pipeline\n",
    "from sklearn.compose import ColumnTransformer\n",
    "\n",
    "categorical_cols = X_train.select_dtypes(include=['object']).columns\n",
    "preprocessor = ColumnTransformer([('onehot', OneHotEncoder(drop='first'), categorical_cols)], remainder='passthrough')\n",
    "\n",
    "model = make_pipeline(preprocessor, LogisticRegression(solver='liblinear', C=1.0, max_iter=1000, random_state=42))\n",
    "\n",
    "model.fit(X_train, y_train)\n",
    "\n",
    "X_val = val.drop(columns=['y'])\n",
    "y_val = val['y']\n",
    "y_pred = model.predict(X_val)\n",
    "\n",
    "val_accuracy = round(accuracy_score(y_val, y_pred), 2)\n",
    "val_accuracy"
   ]
  },
  {
   "cell_type": "markdown",
   "metadata": {},
   "source": [
    "#### Question-5"
   ]
  },
  {
   "cell_type": "code",
   "execution_count": 37,
   "metadata": {},
   "outputs": [
    {
     "data": {
      "text/plain": [
       "{'age': -0.0,\n",
       " 'job': 0.0,\n",
       " 'marital': -0.0,\n",
       " 'education': 0.0,\n",
       " 'default': -0.0,\n",
       " 'balance': 0.0,\n",
       " 'housing': 0.0,\n",
       " 'loan': -0.0,\n",
       " 'contact': -0.0,\n",
       " 'day': -0.0,\n",
       " 'month': 0.0,\n",
       " 'duration': 0.01,\n",
       " 'campaign': -0.0,\n",
       " 'pdays': 0.0,\n",
       " 'previous': -0.0,\n",
       " 'poutcome': 0.01}"
      ]
     },
     "execution_count": 37,
     "metadata": {},
     "output_type": "execute_result"
    }
   ],
   "source": [
    "accuracy_differences_individual = {}\n",
    "\n",
    "model_all_features = make_pipeline(preprocessor, LogisticRegression(solver='liblinear', C=1.0, max_iter=1000, random_state=42))\n",
    "model_all_features.fit(X_train, y_train)\n",
    "val_accuracy_all_features = accuracy_score(y_val, model_all_features.predict(X_val))\n",
    "\n",
    "for feature in X_train.columns:\n",
    "    X_train_feature_excluded = X_train.drop(columns=[feature])\n",
    "    X_val_feature_excluded = X_val.drop(columns=[feature])\n",
    "    \n",
    "    categorical_cols_excluded = X_train_feature_excluded.select_dtypes(include=['object']).columns\n",
    "    preprocessor_excluded = ColumnTransformer([('onehot', OneHotEncoder(drop='first'), categorical_cols_excluded)], remainder='passthrough')\n",
    "    \n",
    "    model_feature_excluded = make_pipeline(\n",
    "        preprocessor_excluded,\n",
    "        LogisticRegression(solver='liblinear', C=1.0, max_iter=1000, random_state=42)\n",
    "    )\n",
    "    model_feature_excluded.fit(X_train_feature_excluded, y_train)\n",
    "    \n",
    "    # Calculate accuracy without the feature\n",
    "    feature_excluded_accuracy = accuracy_score(y_val, model_feature_excluded.predict(X_val_feature_excluded))\n",
    "    \n",
    "    accuracy_differences_individual[feature] = round(val_accuracy_all_features - feature_excluded_accuracy, 2)\n",
    "\n",
    "accuracy_differences_individual"
   ]
  },
  {
   "cell_type": "markdown",
   "metadata": {},
   "source": [
    "Based on the result it might be the age factor"
   ]
  },
  {
   "cell_type": "markdown",
   "metadata": {},
   "source": [
    "#### Question-6"
   ]
  },
  {
   "cell_type": "code",
   "execution_count": 38,
   "metadata": {},
   "outputs": [
    {
     "data": {
      "text/plain": [
       "(1, 0.902)"
      ]
     },
     "execution_count": 38,
     "metadata": {},
     "output_type": "execute_result"
    }
   ],
   "source": [
    "c_values = [0.01, 0.1, 1, 10, 100]\n",
    "accuracies = {}\n",
    "\n",
    "for c in c_values:\n",
    "    model = make_pipeline(\n",
    "        preprocessor,\n",
    "        LogisticRegression(solver='liblinear', C=c, max_iter=1000, random_state=42)\n",
    "    )\n",
    "    model.fit(X_train, y_train)\n",
    "    \n",
    "    # Calculate accuracy on the validation set and store it rounded to 3 decimal places\n",
    "    val_accuracy = round(accuracy_score(y_val, model.predict(X_val)), 3)\n",
    "    accuracies[c] = val_accuracy\n",
    "\n",
    "# Finding the C value that leads to the best accuracy\n",
    "best_c = max(accuracies, key=accuracies.get), accuracies[max(accuracies, key=accuracies.get)]\n",
    "best_c"
   ]
  },
  {
   "cell_type": "code",
   "execution_count": null,
   "metadata": {},
   "outputs": [],
   "source": []
  }
 ],
 "metadata": {
  "kernelspec": {
   "display_name": "venv",
   "language": "python",
   "name": "python3"
  },
  "language_info": {
   "codemirror_mode": {
    "name": "ipython",
    "version": 3
   },
   "file_extension": ".py",
   "mimetype": "text/x-python",
   "name": "python",
   "nbconvert_exporter": "python",
   "pygments_lexer": "ipython3",
   "version": "3.12.1"
  }
 },
 "nbformat": 4,
 "nbformat_minor": 2
}
